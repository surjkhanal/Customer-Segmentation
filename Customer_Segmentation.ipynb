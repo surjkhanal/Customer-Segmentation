{
  "nbformat": 4,
  "nbformat_minor": 0,
  "metadata": {
    "colab": {
      "name": "Customer Segmentation.ipynb",
      "provenance": [],
      "collapsed_sections": [],
      "toc_visible": true,
      "authorship_tag": "ABX9TyOsSTZ7z04PIFB3n1ZizCcM",
      "include_colab_link": true
    },
    "kernelspec": {
      "name": "python3",
      "display_name": "Python 3"
    }
  },
  "cells": [
    {
      "cell_type": "markdown",
      "metadata": {
        "id": "view-in-github",
        "colab_type": "text"
      },
      "source": [
        "<a href=\"https://colab.research.google.com/github/surjkhanal/Customer-Segmentation/blob/master/Customer_Segmentation.ipynb\" target=\"_parent\"><img src=\"https://colab.research.google.com/assets/colab-badge.svg\" alt=\"Open In Colab\"/></a>"
      ]
    },
    {
      "cell_type": "markdown",
      "metadata": {
        "id": "fvXxLvWzwJFv",
        "colab_type": "text"
      },
      "source": [
        "\n",
        "---\n",
        "---\n",
        "\n",
        "**Customer Segmentation with Machine Learning**\n",
        "\n",
        "---\n",
        "\n",
        "---"
      ]
    },
    {
      "cell_type": "code",
      "metadata": {
        "id": "eraFmjScVAog",
        "colab_type": "code",
        "colab": {
          "base_uri": "https://localhost:8080/",
          "height": 301
        },
        "outputId": "b4c0d356-41b9-4313-bb2e-155cea7cc71d"
      },
      "source": [
        "\n",
        "# DataSet Used\n",
        "## Run To download dataset\n",
        "\n",
        "!wget https://github.com/surjkhanal/Customer-Segmentation/raw/master/Orders.csv"
      ],
      "execution_count": 4,
      "outputs": [
        {
          "output_type": "stream",
          "text": [
            "--2020-07-05 16:13:59--  https://github.com/surjkhanal/Customer-Segmentation/raw/master/Orders.csv\n",
            "Resolving github.com (github.com)... 140.82.114.4\n",
            "Connecting to github.com (github.com)|140.82.114.4|:443... connected.\n",
            "HTTP request sent, awaiting response... 302 Found\n",
            "Location: https://raw.githubusercontent.com/surjkhanal/Customer-Segmentation/master/Orders.csv [following]\n",
            "--2020-07-05 16:14:00--  https://raw.githubusercontent.com/surjkhanal/Customer-Segmentation/master/Orders.csv\n",
            "Resolving raw.githubusercontent.com (raw.githubusercontent.com)... 151.101.0.133, 151.101.64.133, 151.101.128.133, ...\n",
            "Connecting to raw.githubusercontent.com (raw.githubusercontent.com)|151.101.0.133|:443... connected.\n",
            "HTTP request sent, awaiting response... 200 OK\n",
            "Length: 9322372 (8.9M) [text/plain]\n",
            "Saving to: ‘Orders.csv’\n",
            "\n",
            "Orders.csv          100%[===================>]   8.89M  18.6MB/s    in 0.5s    \n",
            "\n",
            "2020-07-05 16:14:00 (18.6 MB/s) - ‘Orders.csv’ saved [9322372/9322372]\n",
            "\n"
          ],
          "name": "stdout"
        }
      ]
    },
    {
      "cell_type": "markdown",
      "metadata": {
        "id": "H97pCHnfwmsU",
        "colab_type": "text"
      },
      "source": [
        "**Customer Segmentation in Retail \n",
        "Application of K-Means Clustering Algorithm**\n",
        "\n",
        "> Customer segmentation will be applied to an e-commerce customer database using K-means clustering from scikit-learn \n",
        "\n",
        "**The provided customers database is visualized as part of a case study. This project is taking the case study one step further with the following motive:**\n",
        "\n",
        "Can this customer database be grouped to develop customized relationships?\n",
        "\n",
        "```To answer this question 3 features will be created and used:```\n",
        ">* products ordered\n",
        ">* average return rate\n",
        ">* total spending\n",
        "\n",
        "\n",
        "Dataset represents real customers & orders data between November 2018 - April 2019 and it is pseudonymized for confidentiality."
      ]
    },
    {
      "cell_type": "markdown",
      "metadata": {
        "id": "uwir5Qle7B2E",
        "colab_type": "text"
      },
      "source": [
        "\n",
        "\n",
        "``` Imports```\n",
        "\n"
      ]
    },
    {
      "cell_type": "code",
      "metadata": {
        "id": "C3V8IP8zUHva",
        "colab_type": "code",
        "colab": {}
      },
      "source": [
        "import pandas as pd\n",
        "import numpy as np\n",
        "import matplotlib.pyplot as plt\n",
        "from sklearn.cluster import KMeans\n",
        "from scipy.spatial.distance import cdist\n",
        "import sklearn.metrics as metrics"
      ],
      "execution_count": 127,
      "outputs": []
    },
    {
      "cell_type": "code",
      "metadata": {
        "id": "p5_bdT4qU3yy",
        "colab_type": "code",
        "colab": {
          "base_uri": "https://localhost:8080/",
          "height": 383
        },
        "outputId": "1c5ab367-8d5b-43cd-c50f-1d392ac4b9ee"
      },
      "source": [
        "fname = 'Orders.csv'\n",
        "data=pd.read_csv(fname)\n",
        "data.head()"
      ],
      "execution_count": 128,
      "outputs": [
        {
          "output_type": "execute_result",
          "data": {
            "text/html": [
              "<div>\n",
              "<style scoped>\n",
              "    .dataframe tbody tr th:only-of-type {\n",
              "        vertical-align: middle;\n",
              "    }\n",
              "\n",
              "    .dataframe tbody tr th {\n",
              "        vertical-align: top;\n",
              "    }\n",
              "\n",
              "    .dataframe thead th {\n",
              "        text-align: right;\n",
              "    }\n",
              "</style>\n",
              "<table border=\"1\" class=\"dataframe\">\n",
              "  <thead>\n",
              "    <tr style=\"text-align: right;\">\n",
              "      <th></th>\n",
              "      <th>product_title</th>\n",
              "      <th>product_type</th>\n",
              "      <th>variant_title</th>\n",
              "      <th>variant_sku</th>\n",
              "      <th>variant_id</th>\n",
              "      <th>customer_id</th>\n",
              "      <th>order_id</th>\n",
              "      <th>day</th>\n",
              "      <th>net_quantity</th>\n",
              "      <th>gross_sales</th>\n",
              "      <th>discounts</th>\n",
              "      <th>returns</th>\n",
              "      <th>net_sales</th>\n",
              "      <th>taxes</th>\n",
              "      <th>total_sales</th>\n",
              "      <th>returned_item_quantity</th>\n",
              "      <th>ordered_item_quantity</th>\n",
              "    </tr>\n",
              "  </thead>\n",
              "  <tbody>\n",
              "    <tr>\n",
              "      <th>0</th>\n",
              "      <td>DPR</td>\n",
              "      <td>DPR</td>\n",
              "      <td>100</td>\n",
              "      <td>AD-982-708-895-F-6C894FB</td>\n",
              "      <td>52039657</td>\n",
              "      <td>1312378</td>\n",
              "      <td>83290718932496</td>\n",
              "      <td>04/12/2018</td>\n",
              "      <td>2</td>\n",
              "      <td>200.0</td>\n",
              "      <td>-200.00</td>\n",
              "      <td>0.00</td>\n",
              "      <td>0.0</td>\n",
              "      <td>0.0</td>\n",
              "      <td>0.0</td>\n",
              "      <td>0</td>\n",
              "      <td>2</td>\n",
              "    </tr>\n",
              "    <tr>\n",
              "      <th>1</th>\n",
              "      <td>RJF</td>\n",
              "      <td>Product P</td>\n",
              "      <td>28 / A / MTM</td>\n",
              "      <td>83-490-E49-8C8-8-3B100BC</td>\n",
              "      <td>56914686</td>\n",
              "      <td>3715657</td>\n",
              "      <td>36253792848113</td>\n",
              "      <td>01/04/2019</td>\n",
              "      <td>2</td>\n",
              "      <td>190.0</td>\n",
              "      <td>-190.00</td>\n",
              "      <td>0.00</td>\n",
              "      <td>0.0</td>\n",
              "      <td>0.0</td>\n",
              "      <td>0.0</td>\n",
              "      <td>0</td>\n",
              "      <td>2</td>\n",
              "    </tr>\n",
              "    <tr>\n",
              "      <th>2</th>\n",
              "      <td>CLH</td>\n",
              "      <td>Product B</td>\n",
              "      <td>32 / B / FtO</td>\n",
              "      <td>68-ECA-BC7-3B2-A-E73DE1B</td>\n",
              "      <td>24064862</td>\n",
              "      <td>9533448</td>\n",
              "      <td>73094559597229</td>\n",
              "      <td>05/11/2018</td>\n",
              "      <td>0</td>\n",
              "      <td>164.8</td>\n",
              "      <td>-156.56</td>\n",
              "      <td>-8.24</td>\n",
              "      <td>0.0</td>\n",
              "      <td>0.0</td>\n",
              "      <td>0.0</td>\n",
              "      <td>-2</td>\n",
              "      <td>2</td>\n",
              "    </tr>\n",
              "    <tr>\n",
              "      <th>3</th>\n",
              "      <td>NMA</td>\n",
              "      <td>Product F</td>\n",
              "      <td>40 / B / FtO</td>\n",
              "      <td>6C-1F1-226-1B3-2-3542B41</td>\n",
              "      <td>43823868</td>\n",
              "      <td>4121004</td>\n",
              "      <td>53616575668264</td>\n",
              "      <td>19/02/2019</td>\n",
              "      <td>1</td>\n",
              "      <td>119.0</td>\n",
              "      <td>-119.00</td>\n",
              "      <td>0.00</td>\n",
              "      <td>0.0</td>\n",
              "      <td>0.0</td>\n",
              "      <td>0.0</td>\n",
              "      <td>0</td>\n",
              "      <td>1</td>\n",
              "    </tr>\n",
              "    <tr>\n",
              "      <th>4</th>\n",
              "      <td>NMA</td>\n",
              "      <td>Product F</td>\n",
              "      <td>40 / B / FtO</td>\n",
              "      <td>6C-1F1-226-1B3-2-3542B41</td>\n",
              "      <td>43823868</td>\n",
              "      <td>4121004</td>\n",
              "      <td>29263220319421</td>\n",
              "      <td>19/02/2019</td>\n",
              "      <td>1</td>\n",
              "      <td>119.0</td>\n",
              "      <td>-119.00</td>\n",
              "      <td>0.00</td>\n",
              "      <td>0.0</td>\n",
              "      <td>0.0</td>\n",
              "      <td>0.0</td>\n",
              "      <td>0</td>\n",
              "      <td>1</td>\n",
              "    </tr>\n",
              "  </tbody>\n",
              "</table>\n",
              "</div>"
            ],
            "text/plain": [
              "  product_title product_type  ... returned_item_quantity ordered_item_quantity\n",
              "0           DPR          DPR  ...                      0                     2\n",
              "1           RJF    Product P  ...                      0                     2\n",
              "2           CLH    Product B  ...                     -2                     2\n",
              "3           NMA    Product F  ...                      0                     1\n",
              "4           NMA    Product F  ...                      0                     1\n",
              "\n",
              "[5 rows x 17 columns]"
            ]
          },
          "metadata": {
            "tags": []
          },
          "execution_count": 128
        }
      ]
    },
    {
      "cell_type": "code",
      "metadata": {
        "id": "Ujh0bwm3Wsl1",
        "colab_type": "code",
        "colab": {
          "base_uri": "https://localhost:8080/",
          "height": 35
        },
        "outputId": "003e65bb-f056-42a8-e249-a7819d65a4c0"
      },
      "source": [
        "data.shape"
      ],
      "execution_count": 129,
      "outputs": [
        {
          "output_type": "execute_result",
          "data": {
            "text/plain": [
              "(70052, 17)"
            ]
          },
          "metadata": {
            "tags": []
          },
          "execution_count": 129
        }
      ]
    },
    {
      "cell_type": "code",
      "metadata": {
        "id": "AXFmhxnxVSdm",
        "colab_type": "code",
        "colab": {
          "base_uri": "https://localhost:8080/",
          "height": 444
        },
        "outputId": "13e32672-844a-4cc1-a126-e4663ecbe6c3"
      },
      "source": [
        "data.info()"
      ],
      "execution_count": 130,
      "outputs": [
        {
          "output_type": "stream",
          "text": [
            "<class 'pandas.core.frame.DataFrame'>\n",
            "RangeIndex: 70052 entries, 0 to 70051\n",
            "Data columns (total 17 columns):\n",
            " #   Column                  Non-Null Count  Dtype  \n",
            "---  ------                  --------------  -----  \n",
            " 0   product_title           70052 non-null  object \n",
            " 1   product_type            70052 non-null  object \n",
            " 2   variant_title           70052 non-null  object \n",
            " 3   variant_sku             70052 non-null  object \n",
            " 4   variant_id              70052 non-null  int64  \n",
            " 5   customer_id             70052 non-null  int64  \n",
            " 6   order_id                70052 non-null  int64  \n",
            " 7   day                     70052 non-null  object \n",
            " 8   net_quantity            70052 non-null  int64  \n",
            " 9   gross_sales             70052 non-null  float64\n",
            " 10  discounts               70052 non-null  float64\n",
            " 11  returns                 70052 non-null  float64\n",
            " 12  net_sales               70052 non-null  float64\n",
            " 13  taxes                   70052 non-null  float64\n",
            " 14  total_sales             70052 non-null  float64\n",
            " 15  returned_item_quantity  70052 non-null  int64  \n",
            " 16  ordered_item_quantity   70052 non-null  int64  \n",
            "dtypes: float64(6), int64(6), object(5)\n",
            "memory usage: 9.1+ MB\n"
          ],
          "name": "stdout"
        }
      ]
    },
    {
      "cell_type": "code",
      "metadata": {
        "id": "CCNGi0c1WEI4",
        "colab_type": "code",
        "colab": {
          "base_uri": "https://localhost:8080/",
          "height": 302
        },
        "outputId": "983035fa-690d-4c80-e002-3e72e5c241bc"
      },
      "source": [
        "data.describe()"
      ],
      "execution_count": 131,
      "outputs": [
        {
          "output_type": "execute_result",
          "data": {
            "text/html": [
              "<div>\n",
              "<style scoped>\n",
              "    .dataframe tbody tr th:only-of-type {\n",
              "        vertical-align: middle;\n",
              "    }\n",
              "\n",
              "    .dataframe tbody tr th {\n",
              "        vertical-align: top;\n",
              "    }\n",
              "\n",
              "    .dataframe thead th {\n",
              "        text-align: right;\n",
              "    }\n",
              "</style>\n",
              "<table border=\"1\" class=\"dataframe\">\n",
              "  <thead>\n",
              "    <tr style=\"text-align: right;\">\n",
              "      <th></th>\n",
              "      <th>variant_id</th>\n",
              "      <th>customer_id</th>\n",
              "      <th>order_id</th>\n",
              "      <th>net_quantity</th>\n",
              "      <th>gross_sales</th>\n",
              "      <th>discounts</th>\n",
              "      <th>returns</th>\n",
              "      <th>net_sales</th>\n",
              "      <th>taxes</th>\n",
              "      <th>total_sales</th>\n",
              "      <th>returned_item_quantity</th>\n",
              "      <th>ordered_item_quantity</th>\n",
              "    </tr>\n",
              "  </thead>\n",
              "  <tbody>\n",
              "    <tr>\n",
              "      <th>count</th>\n",
              "      <td>7.005200e+04</td>\n",
              "      <td>7.005200e+04</td>\n",
              "      <td>7.005200e+04</td>\n",
              "      <td>70052.000000</td>\n",
              "      <td>70052.000000</td>\n",
              "      <td>70052.000000</td>\n",
              "      <td>70052.000000</td>\n",
              "      <td>70052.000000</td>\n",
              "      <td>70052.000000</td>\n",
              "      <td>70052.000000</td>\n",
              "      <td>70052.000000</td>\n",
              "      <td>70052.000000</td>\n",
              "    </tr>\n",
              "    <tr>\n",
              "      <th>mean</th>\n",
              "      <td>2.442320e+11</td>\n",
              "      <td>6.013091e+11</td>\n",
              "      <td>5.506075e+13</td>\n",
              "      <td>0.701179</td>\n",
              "      <td>61.776302</td>\n",
              "      <td>-4.949904</td>\n",
              "      <td>-10.246051</td>\n",
              "      <td>46.580348</td>\n",
              "      <td>9.123636</td>\n",
              "      <td>55.703982</td>\n",
              "      <td>-0.156098</td>\n",
              "      <td>0.857277</td>\n",
              "    </tr>\n",
              "    <tr>\n",
              "      <th>std</th>\n",
              "      <td>4.255079e+12</td>\n",
              "      <td>6.223201e+12</td>\n",
              "      <td>2.587640e+13</td>\n",
              "      <td>0.739497</td>\n",
              "      <td>31.800689</td>\n",
              "      <td>7.769972</td>\n",
              "      <td>25.154677</td>\n",
              "      <td>51.802690</td>\n",
              "      <td>10.305236</td>\n",
              "      <td>61.920557</td>\n",
              "      <td>0.369190</td>\n",
              "      <td>0.380820</td>\n",
              "    </tr>\n",
              "    <tr>\n",
              "      <th>min</th>\n",
              "      <td>1.001447e+07</td>\n",
              "      <td>1.000661e+06</td>\n",
              "      <td>1.000657e+13</td>\n",
              "      <td>-3.000000</td>\n",
              "      <td>0.000000</td>\n",
              "      <td>-200.000000</td>\n",
              "      <td>-237.500000</td>\n",
              "      <td>-237.500000</td>\n",
              "      <td>-47.500000</td>\n",
              "      <td>-285.000000</td>\n",
              "      <td>-3.000000</td>\n",
              "      <td>0.000000</td>\n",
              "    </tr>\n",
              "    <tr>\n",
              "      <th>25%</th>\n",
              "      <td>2.692223e+07</td>\n",
              "      <td>3.295695e+06</td>\n",
              "      <td>3.270317e+13</td>\n",
              "      <td>1.000000</td>\n",
              "      <td>51.670000</td>\n",
              "      <td>-8.340000</td>\n",
              "      <td>0.000000</td>\n",
              "      <td>47.080000</td>\n",
              "      <td>8.375000</td>\n",
              "      <td>56.227500</td>\n",
              "      <td>0.000000</td>\n",
              "      <td>1.000000</td>\n",
              "    </tr>\n",
              "    <tr>\n",
              "      <th>50%</th>\n",
              "      <td>4.494514e+07</td>\n",
              "      <td>5.566107e+06</td>\n",
              "      <td>5.522207e+13</td>\n",
              "      <td>1.000000</td>\n",
              "      <td>74.170000</td>\n",
              "      <td>0.000000</td>\n",
              "      <td>0.000000</td>\n",
              "      <td>63.330000</td>\n",
              "      <td>12.660000</td>\n",
              "      <td>76.000000</td>\n",
              "      <td>0.000000</td>\n",
              "      <td>1.000000</td>\n",
              "    </tr>\n",
              "    <tr>\n",
              "      <th>75%</th>\n",
              "      <td>7.743106e+07</td>\n",
              "      <td>7.815352e+06</td>\n",
              "      <td>7.736876e+13</td>\n",
              "      <td>1.000000</td>\n",
              "      <td>79.170000</td>\n",
              "      <td>0.000000</td>\n",
              "      <td>0.000000</td>\n",
              "      <td>74.170000</td>\n",
              "      <td>14.840000</td>\n",
              "      <td>89.000000</td>\n",
              "      <td>0.000000</td>\n",
              "      <td>1.000000</td>\n",
              "    </tr>\n",
              "    <tr>\n",
              "      <th>max</th>\n",
              "      <td>8.422212e+13</td>\n",
              "      <td>9.977409e+13</td>\n",
              "      <td>9.999554e+13</td>\n",
              "      <td>6.000000</td>\n",
              "      <td>445.000000</td>\n",
              "      <td>0.000000</td>\n",
              "      <td>0.000000</td>\n",
              "      <td>445.000000</td>\n",
              "      <td>63.340000</td>\n",
              "      <td>445.000000</td>\n",
              "      <td>0.000000</td>\n",
              "      <td>6.000000</td>\n",
              "    </tr>\n",
              "  </tbody>\n",
              "</table>\n",
              "</div>"
            ],
            "text/plain": [
              "         variant_id  ...  ordered_item_quantity\n",
              "count  7.005200e+04  ...           70052.000000\n",
              "mean   2.442320e+11  ...               0.857277\n",
              "std    4.255079e+12  ...               0.380820\n",
              "min    1.001447e+07  ...               0.000000\n",
              "25%    2.692223e+07  ...               1.000000\n",
              "50%    4.494514e+07  ...               1.000000\n",
              "75%    7.743106e+07  ...               1.000000\n",
              "max    8.422212e+13  ...               6.000000\n",
              "\n",
              "[8 rows x 12 columns]"
            ]
          },
          "metadata": {
            "tags": []
          },
          "execution_count": 131
        }
      ]
    },
    {
      "cell_type": "markdown",
      "metadata": {
        "id": "7R_9sZA_dQzI",
        "colab_type": "text"
      },
      "source": [
        "\n",
        "\n",
        "```\n",
        "Removing Negative Order Quantity\n",
        "```\n",
        "\n"
      ]
    },
    {
      "cell_type": "code",
      "metadata": {
        "id": "NZ1Toc0jWkhC",
        "colab_type": "code",
        "colab": {}
      },
      "source": [
        "data = data[data['ordered_item_quantity'] >0]"
      ],
      "execution_count": 132,
      "outputs": []
    },
    {
      "cell_type": "markdown",
      "metadata": {
        "id": "Lp4GWa4ScftP",
        "colab_type": "text"
      },
      "source": [
        "## 1. Products ordered\n",
        "It is the count of the products ordered in product_type column by a customer."
      ]
    },
    {
      "cell_type": "code",
      "metadata": {
        "id": "4Q_W4lFAdmY6",
        "colab_type": "code",
        "colab": {}
      },
      "source": [
        "def encode_column(column):\n",
        "    if column > 0:\n",
        "        return 1\n",
        "    if column <= 0:\n",
        "        return 0\n",
        "\n",
        "def aggregate_by_ordered_quantity(df, column_list):\n",
        "    aggregated_dataframe = (df.groupby(column_list).ordered_item_quantity.count().reset_index())\n",
        "\n",
        "    aggregated_dataframe[\"products_ordered\"] = (aggregated_dataframe.ordered_item_quantity.apply(encode_column))\n",
        "\n",
        "    final_dataframe = (aggregated_dataframe.groupby(column_list[0]).products_ordered.sum().reset_index())\n",
        "    return final_dataframe"
      ],
      "execution_count": 133,
      "outputs": []
    },
    {
      "cell_type": "code",
      "metadata": {
        "id": "zZDP7EGfeMC2",
        "colab_type": "code",
        "colab": {}
      },
      "source": [
        "customers = aggregate_by_ordered_quantity(data, [\"customer_id\", \"product_type\"])"
      ],
      "execution_count": 134,
      "outputs": []
    },
    {
      "cell_type": "code",
      "metadata": {
        "id": "XFWgg_vxep4f",
        "colab_type": "code",
        "colab": {
          "base_uri": "https://localhost:8080/",
          "height": 194
        },
        "outputId": "3314b0f3-e93c-4bcc-e7a9-efa20eb96b97"
      },
      "source": [
        "customers.head(5)"
      ],
      "execution_count": 135,
      "outputs": [
        {
          "output_type": "execute_result",
          "data": {
            "text/html": [
              "<div>\n",
              "<style scoped>\n",
              "    .dataframe tbody tr th:only-of-type {\n",
              "        vertical-align: middle;\n",
              "    }\n",
              "\n",
              "    .dataframe tbody tr th {\n",
              "        vertical-align: top;\n",
              "    }\n",
              "\n",
              "    .dataframe thead th {\n",
              "        text-align: right;\n",
              "    }\n",
              "</style>\n",
              "<table border=\"1\" class=\"dataframe\">\n",
              "  <thead>\n",
              "    <tr style=\"text-align: right;\">\n",
              "      <th></th>\n",
              "      <th>customer_id</th>\n",
              "      <th>products_ordered</th>\n",
              "    </tr>\n",
              "  </thead>\n",
              "  <tbody>\n",
              "    <tr>\n",
              "      <th>0</th>\n",
              "      <td>1000661</td>\n",
              "      <td>1</td>\n",
              "    </tr>\n",
              "    <tr>\n",
              "      <th>1</th>\n",
              "      <td>1001914</td>\n",
              "      <td>1</td>\n",
              "    </tr>\n",
              "    <tr>\n",
              "      <th>2</th>\n",
              "      <td>1002167</td>\n",
              "      <td>3</td>\n",
              "    </tr>\n",
              "    <tr>\n",
              "      <th>3</th>\n",
              "      <td>1002387</td>\n",
              "      <td>1</td>\n",
              "    </tr>\n",
              "    <tr>\n",
              "      <th>4</th>\n",
              "      <td>1002419</td>\n",
              "      <td>2</td>\n",
              "    </tr>\n",
              "  </tbody>\n",
              "</table>\n",
              "</div>"
            ],
            "text/plain": [
              "   customer_id  products_ordered\n",
              "0      1000661                 1\n",
              "1      1001914                 1\n",
              "2      1002167                 3\n",
              "3      1002387                 1\n",
              "4      1002419                 2"
            ]
          },
          "metadata": {
            "tags": []
          },
          "execution_count": 135
        }
      ]
    },
    {
      "cell_type": "markdown",
      "metadata": {
        "id": "_oIoLLZJerjS",
        "colab_type": "text"
      },
      "source": [
        "##2. Average Return Rate\n",
        "It is the ratio of returned item quantity and ordered item quantity. This ratio is first calculated per order and then averaged for all orders of a customer."
      ]
    },
    {
      "cell_type": "code",
      "metadata": {
        "id": "kG3nMrZne96z",
        "colab_type": "code",
        "colab": {}
      },
      "source": [
        "ordered_sum_by_customer_order = (data.groupby([\"customer_id\", \"order_id\"]).ordered_item_quantity.sum().reset_index())\n",
        "\n",
        "returned_sum_by_customer_order = (data.groupby([\"customer_id\", \"order_id\"]).returned_item_quantity.sum().reset_index())\n",
        "\n",
        "ordered_returned_sums = pd.merge(ordered_sum_by_customer_order, returned_sum_by_customer_order)"
      ],
      "execution_count": 136,
      "outputs": []
    },
    {
      "cell_type": "code",
      "metadata": {
        "id": "HRkCJ9cxfexR",
        "colab_type": "code",
        "colab": {}
      },
      "source": [
        "ordered_returned_sums[\"average_return_rate\"] = (-1 * ordered_returned_sums[\"returned_item_quantity\"] /ordered_returned_sums[\"ordered_item_quantity\"])"
      ],
      "execution_count": 137,
      "outputs": []
    },
    {
      "cell_type": "code",
      "metadata": {
        "id": "TjCnr638fpiT",
        "colab_type": "code",
        "colab": {
          "base_uri": "https://localhost:8080/",
          "height": 194
        },
        "outputId": "567fab8a-867d-49ef-a150-3f12a0c88d30"
      },
      "source": [
        "ordered_returned_sums.head()"
      ],
      "execution_count": 138,
      "outputs": [
        {
          "output_type": "execute_result",
          "data": {
            "text/html": [
              "<div>\n",
              "<style scoped>\n",
              "    .dataframe tbody tr th:only-of-type {\n",
              "        vertical-align: middle;\n",
              "    }\n",
              "\n",
              "    .dataframe tbody tr th {\n",
              "        vertical-align: top;\n",
              "    }\n",
              "\n",
              "    .dataframe thead th {\n",
              "        text-align: right;\n",
              "    }\n",
              "</style>\n",
              "<table border=\"1\" class=\"dataframe\">\n",
              "  <thead>\n",
              "    <tr style=\"text-align: right;\">\n",
              "      <th></th>\n",
              "      <th>customer_id</th>\n",
              "      <th>order_id</th>\n",
              "      <th>ordered_item_quantity</th>\n",
              "      <th>returned_item_quantity</th>\n",
              "      <th>average_return_rate</th>\n",
              "    </tr>\n",
              "  </thead>\n",
              "  <tbody>\n",
              "    <tr>\n",
              "      <th>0</th>\n",
              "      <td>1000661</td>\n",
              "      <td>99119989117212</td>\n",
              "      <td>3</td>\n",
              "      <td>0</td>\n",
              "      <td>0.0</td>\n",
              "    </tr>\n",
              "    <tr>\n",
              "      <th>1</th>\n",
              "      <td>1001914</td>\n",
              "      <td>79758569034715</td>\n",
              "      <td>1</td>\n",
              "      <td>0</td>\n",
              "      <td>0.0</td>\n",
              "    </tr>\n",
              "    <tr>\n",
              "      <th>2</th>\n",
              "      <td>1002167</td>\n",
              "      <td>38156088848638</td>\n",
              "      <td>1</td>\n",
              "      <td>0</td>\n",
              "      <td>0.0</td>\n",
              "    </tr>\n",
              "    <tr>\n",
              "      <th>3</th>\n",
              "      <td>1002167</td>\n",
              "      <td>57440147820257</td>\n",
              "      <td>1</td>\n",
              "      <td>0</td>\n",
              "      <td>0.0</td>\n",
              "    </tr>\n",
              "    <tr>\n",
              "      <th>4</th>\n",
              "      <td>1002167</td>\n",
              "      <td>58825523953710</td>\n",
              "      <td>1</td>\n",
              "      <td>0</td>\n",
              "      <td>0.0</td>\n",
              "    </tr>\n",
              "  </tbody>\n",
              "</table>\n",
              "</div>"
            ],
            "text/plain": [
              "   customer_id        order_id  ...  returned_item_quantity  average_return_rate\n",
              "0      1000661  99119989117212  ...                       0                  0.0\n",
              "1      1001914  79758569034715  ...                       0                  0.0\n",
              "2      1002167  38156088848638  ...                       0                  0.0\n",
              "3      1002167  57440147820257  ...                       0                  0.0\n",
              "4      1002167  58825523953710  ...                       0                  0.0\n",
              "\n",
              "[5 rows x 5 columns]"
            ]
          },
          "metadata": {
            "tags": []
          },
          "execution_count": 138
        }
      ]
    },
    {
      "cell_type": "code",
      "metadata": {
        "id": "zMx7Ctkyfsfo",
        "colab_type": "code",
        "colab": {}
      },
      "source": [
        "customer_return_rate = (ordered_returned_sums.groupby(\"customer_id\").average_return_rate.mean().reset_index())"
      ],
      "execution_count": 139,
      "outputs": []
    },
    {
      "cell_type": "code",
      "metadata": {
        "id": "cC75APQMf6Gy",
        "colab_type": "code",
        "colab": {
          "base_uri": "https://localhost:8080/",
          "height": 428
        },
        "outputId": "b588d7de-a338-40ad-82ed-66bd75ed7a85"
      },
      "source": [
        "return_rates = pd.DataFrame(customer_return_rate[\"average_return_rate\"].value_counts().reset_index())\n",
        "\n",
        "return_rates.rename(columns=\n",
        "                    {\"index\": \"average return rate\",\n",
        "                     \"average_return_rate\": \"count of unit return rate\"},\n",
        "                    inplace=True)\n",
        "\n",
        "return_rates.sort_values(by=\"average return rate\")"
      ],
      "execution_count": 140,
      "outputs": [
        {
          "output_type": "execute_result",
          "data": {
            "text/html": [
              "<div>\n",
              "<style scoped>\n",
              "    .dataframe tbody tr th:only-of-type {\n",
              "        vertical-align: middle;\n",
              "    }\n",
              "\n",
              "    .dataframe tbody tr th {\n",
              "        vertical-align: top;\n",
              "    }\n",
              "\n",
              "    .dataframe thead th {\n",
              "        text-align: right;\n",
              "    }\n",
              "</style>\n",
              "<table border=\"1\" class=\"dataframe\">\n",
              "  <thead>\n",
              "    <tr style=\"text-align: right;\">\n",
              "      <th></th>\n",
              "      <th>average return rate</th>\n",
              "      <th>count of unit return rate</th>\n",
              "    </tr>\n",
              "  </thead>\n",
              "  <tbody>\n",
              "    <tr>\n",
              "      <th>0</th>\n",
              "      <td>0.000000</td>\n",
              "      <td>24823</td>\n",
              "    </tr>\n",
              "    <tr>\n",
              "      <th>9</th>\n",
              "      <td>0.013889</td>\n",
              "      <td>1</td>\n",
              "    </tr>\n",
              "    <tr>\n",
              "      <th>10</th>\n",
              "      <td>0.066667</td>\n",
              "      <td>1</td>\n",
              "    </tr>\n",
              "    <tr>\n",
              "      <th>8</th>\n",
              "      <td>0.083333</td>\n",
              "      <td>1</td>\n",
              "    </tr>\n",
              "    <tr>\n",
              "      <th>12</th>\n",
              "      <td>0.125000</td>\n",
              "      <td>1</td>\n",
              "    </tr>\n",
              "    <tr>\n",
              "      <th>5</th>\n",
              "      <td>0.166667</td>\n",
              "      <td>2</td>\n",
              "    </tr>\n",
              "    <tr>\n",
              "      <th>6</th>\n",
              "      <td>0.200000</td>\n",
              "      <td>2</td>\n",
              "    </tr>\n",
              "    <tr>\n",
              "      <th>4</th>\n",
              "      <td>0.250000</td>\n",
              "      <td>5</td>\n",
              "    </tr>\n",
              "    <tr>\n",
              "      <th>1</th>\n",
              "      <td>0.333333</td>\n",
              "      <td>13</td>\n",
              "    </tr>\n",
              "    <tr>\n",
              "      <th>11</th>\n",
              "      <td>0.400000</td>\n",
              "      <td>1</td>\n",
              "    </tr>\n",
              "    <tr>\n",
              "      <th>3</th>\n",
              "      <td>0.500000</td>\n",
              "      <td>9</td>\n",
              "    </tr>\n",
              "    <tr>\n",
              "      <th>7</th>\n",
              "      <td>0.666667</td>\n",
              "      <td>2</td>\n",
              "    </tr>\n",
              "    <tr>\n",
              "      <th>2</th>\n",
              "      <td>1.000000</td>\n",
              "      <td>13</td>\n",
              "    </tr>\n",
              "  </tbody>\n",
              "</table>\n",
              "</div>"
            ],
            "text/plain": [
              "    average return rate  count of unit return rate\n",
              "0              0.000000                      24823\n",
              "9              0.013889                          1\n",
              "10             0.066667                          1\n",
              "8              0.083333                          1\n",
              "12             0.125000                          1\n",
              "5              0.166667                          2\n",
              "6              0.200000                          2\n",
              "4              0.250000                          5\n",
              "1              0.333333                         13\n",
              "11             0.400000                          1\n",
              "3              0.500000                          9\n",
              "7              0.666667                          2\n",
              "2              1.000000                         13"
            ]
          },
          "metadata": {
            "tags": []
          },
          "execution_count": 140
        }
      ]
    },
    {
      "cell_type": "code",
      "metadata": {
        "id": "PEymg0jQgEyj",
        "colab_type": "code",
        "colab": {}
      },
      "source": [
        "customers = pd.merge(customers,customer_return_rate,on=\"customer_id\")"
      ],
      "execution_count": 141,
      "outputs": []
    },
    {
      "cell_type": "markdown",
      "metadata": {
        "id": "cxzPEMoDgRrh",
        "colab_type": "text"
      },
      "source": [
        "## 3. Total spending\n",
        "Total spending is the aggregated sum of total sales value which is the amount after the taxes and returns."
      ]
    },
    {
      "cell_type": "code",
      "metadata": {
        "id": "Y6oPBwgRgZPm",
        "colab_type": "code",
        "colab": {}
      },
      "source": [
        "customer_total_spending = (data.groupby(\"customer_id\").total_sales.sum().reset_index())\n",
        "\n",
        "customer_total_spending.rename(columns = {\"total_sales\" : \"total_spending\"},\n",
        "                               inplace = True)"
      ],
      "execution_count": 142,
      "outputs": []
    },
    {
      "cell_type": "markdown",
      "metadata": {
        "id": "PqevJTLJghRH",
        "colab_type": "text"
      },
      "source": [
        "## Create features data frame"
      ]
    },
    {
      "cell_type": "code",
      "metadata": {
        "id": "EB2mSgklgoeX",
        "colab_type": "code",
        "colab": {}
      },
      "source": [
        "customers = customers.merge(customer_total_spending, on=\"customer_id\")"
      ],
      "execution_count": 143,
      "outputs": []
    },
    {
      "cell_type": "code",
      "metadata": {
        "id": "sE_GU8M2gs_b",
        "colab_type": "code",
        "colab": {
          "base_uri": "https://localhost:8080/",
          "height": 35
        },
        "outputId": "aee5ce48-c2f2-4d1d-b4a9-fdcad2bad9ff"
      },
      "source": [
        "print(\"The number of customers from the existing customer base:\", customers.shape[0])"
      ],
      "execution_count": 144,
      "outputs": [
        {
          "output_type": "stream",
          "text": [
            "The number of customers from the existing customer base: 24874\n"
          ],
          "name": "stdout"
        }
      ]
    },
    {
      "cell_type": "code",
      "metadata": {
        "id": "JUH4AHsmgwkH",
        "colab_type": "code",
        "colab": {}
      },
      "source": [
        "customers.drop(columns=\"customer_id\",inplace=True)"
      ],
      "execution_count": 145,
      "outputs": []
    },
    {
      "cell_type": "code",
      "metadata": {
        "id": "BFTPfcv-g41e",
        "colab_type": "code",
        "colab": {
          "base_uri": "https://localhost:8080/",
          "height": 194
        },
        "outputId": "350e6db9-57c0-4ad6-cd3d-fe1bfa6366e9"
      },
      "source": [
        "customers.head()"
      ],
      "execution_count": 146,
      "outputs": [
        {
          "output_type": "execute_result",
          "data": {
            "text/html": [
              "<div>\n",
              "<style scoped>\n",
              "    .dataframe tbody tr th:only-of-type {\n",
              "        vertical-align: middle;\n",
              "    }\n",
              "\n",
              "    .dataframe tbody tr th {\n",
              "        vertical-align: top;\n",
              "    }\n",
              "\n",
              "    .dataframe thead th {\n",
              "        text-align: right;\n",
              "    }\n",
              "</style>\n",
              "<table border=\"1\" class=\"dataframe\">\n",
              "  <thead>\n",
              "    <tr style=\"text-align: right;\">\n",
              "      <th></th>\n",
              "      <th>products_ordered</th>\n",
              "      <th>average_return_rate</th>\n",
              "      <th>total_spending</th>\n",
              "    </tr>\n",
              "  </thead>\n",
              "  <tbody>\n",
              "    <tr>\n",
              "      <th>0</th>\n",
              "      <td>1</td>\n",
              "      <td>0.0</td>\n",
              "      <td>260.0</td>\n",
              "    </tr>\n",
              "    <tr>\n",
              "      <th>1</th>\n",
              "      <td>1</td>\n",
              "      <td>0.0</td>\n",
              "      <td>79.2</td>\n",
              "    </tr>\n",
              "    <tr>\n",
              "      <th>2</th>\n",
              "      <td>3</td>\n",
              "      <td>0.0</td>\n",
              "      <td>234.2</td>\n",
              "    </tr>\n",
              "    <tr>\n",
              "      <th>3</th>\n",
              "      <td>1</td>\n",
              "      <td>0.0</td>\n",
              "      <td>89.0</td>\n",
              "    </tr>\n",
              "    <tr>\n",
              "      <th>4</th>\n",
              "      <td>2</td>\n",
              "      <td>0.0</td>\n",
              "      <td>103.0</td>\n",
              "    </tr>\n",
              "  </tbody>\n",
              "</table>\n",
              "</div>"
            ],
            "text/plain": [
              "   products_ordered  average_return_rate  total_spending\n",
              "0                 1                  0.0           260.0\n",
              "1                 1                  0.0            79.2\n",
              "2                 3                  0.0           234.2\n",
              "3                 1                  0.0            89.0\n",
              "4                 2                  0.0           103.0"
            ]
          },
          "metadata": {
            "tags": []
          },
          "execution_count": 146
        }
      ]
    },
    {
      "cell_type": "code",
      "metadata": {
        "id": "2py8moSZ2chU",
        "colab_type": "code",
        "colab": {}
      },
      "source": [
        "def scale(x):\n",
        "    return (x-np.mean(x))/(np.std(x))\n",
        "data_scaled=customers.apply(scale,axis=0)"
      ],
      "execution_count": 147,
      "outputs": []
    },
    {
      "cell_type": "code",
      "metadata": {
        "id": "4G0pgtmc2sL7",
        "colab_type": "code",
        "colab": {
          "base_uri": "https://localhost:8080/",
          "height": 399
        },
        "outputId": "b346f87c-ffb2-4dfc-d81e-8659354c52ff"
      },
      "source": [
        "data_scaled"
      ],
      "execution_count": 148,
      "outputs": [
        {
          "output_type": "execute_result",
          "data": {
            "text/html": [
              "<div>\n",
              "<style scoped>\n",
              "    .dataframe tbody tr th:only-of-type {\n",
              "        vertical-align: middle;\n",
              "    }\n",
              "\n",
              "    .dataframe tbody tr th {\n",
              "        vertical-align: top;\n",
              "    }\n",
              "\n",
              "    .dataframe thead th {\n",
              "        text-align: right;\n",
              "    }\n",
              "</style>\n",
              "<table border=\"1\" class=\"dataframe\">\n",
              "  <thead>\n",
              "    <tr style=\"text-align: right;\">\n",
              "      <th></th>\n",
              "      <th>products_ordered</th>\n",
              "      <th>average_return_rate</th>\n",
              "      <th>total_spending</th>\n",
              "    </tr>\n",
              "  </thead>\n",
              "  <tbody>\n",
              "    <tr>\n",
              "      <th>0</th>\n",
              "      <td>-0.681051</td>\n",
              "      <td>-0.038412</td>\n",
              "      <td>0.401847</td>\n",
              "    </tr>\n",
              "    <tr>\n",
              "      <th>1</th>\n",
              "      <td>-0.681051</td>\n",
              "      <td>-0.038412</td>\n",
              "      <td>-0.654865</td>\n",
              "    </tr>\n",
              "    <tr>\n",
              "      <th>2</th>\n",
              "      <td>1.156708</td>\n",
              "      <td>-0.038412</td>\n",
              "      <td>0.251055</td>\n",
              "    </tr>\n",
              "    <tr>\n",
              "      <th>3</th>\n",
              "      <td>-0.681051</td>\n",
              "      <td>-0.038412</td>\n",
              "      <td>-0.597588</td>\n",
              "    </tr>\n",
              "    <tr>\n",
              "      <th>4</th>\n",
              "      <td>0.237829</td>\n",
              "      <td>-0.038412</td>\n",
              "      <td>-0.515763</td>\n",
              "    </tr>\n",
              "    <tr>\n",
              "      <th>...</th>\n",
              "      <td>...</td>\n",
              "      <td>...</td>\n",
              "      <td>...</td>\n",
              "    </tr>\n",
              "    <tr>\n",
              "      <th>24869</th>\n",
              "      <td>0.237829</td>\n",
              "      <td>-0.038412</td>\n",
              "      <td>0.396003</td>\n",
              "    </tr>\n",
              "    <tr>\n",
              "      <th>24870</th>\n",
              "      <td>0.237829</td>\n",
              "      <td>-0.038412</td>\n",
              "      <td>0.299566</td>\n",
              "    </tr>\n",
              "    <tr>\n",
              "      <th>24871</th>\n",
              "      <td>-0.681051</td>\n",
              "      <td>-0.038412</td>\n",
              "      <td>-0.597588</td>\n",
              "    </tr>\n",
              "    <tr>\n",
              "      <th>24872</th>\n",
              "      <td>0.237829</td>\n",
              "      <td>-0.038412</td>\n",
              "      <td>0.442760</td>\n",
              "    </tr>\n",
              "    <tr>\n",
              "      <th>24873</th>\n",
              "      <td>-0.681051</td>\n",
              "      <td>-0.038412</td>\n",
              "      <td>-0.743704</td>\n",
              "    </tr>\n",
              "  </tbody>\n",
              "</table>\n",
              "<p>24874 rows × 3 columns</p>\n",
              "</div>"
            ],
            "text/plain": [
              "       products_ordered  average_return_rate  total_spending\n",
              "0             -0.681051            -0.038412        0.401847\n",
              "1             -0.681051            -0.038412       -0.654865\n",
              "2              1.156708            -0.038412        0.251055\n",
              "3             -0.681051            -0.038412       -0.597588\n",
              "4              0.237829            -0.038412       -0.515763\n",
              "...                 ...                  ...             ...\n",
              "24869          0.237829            -0.038412        0.396003\n",
              "24870          0.237829            -0.038412        0.299566\n",
              "24871         -0.681051            -0.038412       -0.597588\n",
              "24872          0.237829            -0.038412        0.442760\n",
              "24873         -0.681051            -0.038412       -0.743704\n",
              "\n",
              "[24874 rows x 3 columns]"
            ]
          },
          "metadata": {
            "tags": []
          },
          "execution_count": 148
        }
      ]
    },
    {
      "cell_type": "markdown",
      "metadata": {
        "id": "kFmKRX6QTX1H",
        "colab_type": "text"
      },
      "source": [
        "## Create K-means model"
      ]
    },
    {
      "cell_type": "code",
      "metadata": {
        "id": "bUvh7B2hTX1H",
        "colab_type": "code",
        "colab": {}
      },
      "source": [
        "\n",
        "k=range(1,10)\n",
        "wss=[]\n",
        "for i in k:\n",
        "    kmeans=KMeans(n_clusters=i,init='k-means++')\n",
        "    kmeans=kmeans.fit(customers)\n",
        "    wss.append(sum(np.min(cdist(customers,kmeans.cluster_centers_,'euclidean'),axis=1))/customers.shape[0])"
      ],
      "execution_count": 149,
      "outputs": []
    },
    {
      "cell_type": "code",
      "metadata": {
        "id": "sZGNyB0B3O8G",
        "colab_type": "code",
        "colab": {
          "base_uri": "https://localhost:8080/",
          "height": 448
        },
        "outputId": "275413a1-0cce-41d9-b6a0-8ec0c3d1d91c"
      },
      "source": [
        "plt.plot(k,wss,'bx')"
      ],
      "execution_count": 150,
      "outputs": [
        {
          "output_type": "execute_result",
          "data": {
            "text/plain": [
              "[<matplotlib.lines.Line2D at 0x7f4d6f300748>]"
            ]
          },
          "metadata": {
            "tags": []
          },
          "execution_count": 150
        },
        {
          "output_type": "display_data",
          "data": {
            "image/png": "[encoded data removed]",
            "text/plain": [
              "<Figure size 640x480 with 1 Axes>"
            ]
          },
          "metadata": {
            "tags": []
          }
        }
      ]
    },
    {
      "cell_type": "code",
      "metadata": {
        "id": "wnmAGU7DTX1K",
        "colab_type": "code",
        "colab": {
          "base_uri": "https://localhost:8080/",
          "height": 35
        },
        "outputId": "a2a1f99b-2923-42c1-e433-e3a7b89ab592"
      },
      "source": [
        "max=0\n",
        "n=1\n",
        "for i in range(2,10):\n",
        "    labels=KMeans(n_clusters=i,random_state=200).fit(data_scaled).labels_\n",
        "    score=metrics.silhouette_score(data_scaled,labels,metric='euclidean',sample_size=10000,random_state=200)\n",
        "    if score>max:\n",
        "        max,n=score,i\n",
        "\n",
        "print('Best Suitable Number Of Clustor =>>',n)"
      ],
      "execution_count": 151,
      "outputs": [
        {
          "output_type": "stream",
          "text": [
            "Best Suitable Number Of Clustor =>> 3\n"
          ],
          "name": "stdout"
        }
      ]
    },
    {
      "cell_type": "code",
      "metadata": {
        "id": "ZR42Jz9R6NHm",
        "colab_type": "code",
        "colab": {}
      },
      "source": [
        "labels=KMeans(n_clusters=n,random_state=200).fit(data_scaled).labels_"
      ],
      "execution_count": 152,
      "outputs": []
    },
    {
      "cell_type": "code",
      "metadata": {
        "id": "xGtFg_HM6Tjy",
        "colab_type": "code",
        "colab": {}
      },
      "source": [
        "customers['Level']=labels"
      ],
      "execution_count": 153,
      "outputs": []
    },
    {
      "cell_type": "code",
      "metadata": {
        "id": "RZHLJE3G97Xk",
        "colab_type": "code",
        "colab": {
          "base_uri": "https://localhost:8080/",
          "height": 35
        },
        "outputId": "dc456ce2-e447-45c9-c21e-e3001f81f4f0"
      },
      "source": [
        "size=[]\n",
        "name=[]\n",
        "for i in range(n):\n",
        "    size.append(customers[customers.Level==i].shape[0])\n",
        "    name.append(i)\n",
        "size,name"
      ],
      "execution_count": 154,
      "outputs": [
        {
          "output_type": "execute_result",
          "data": {
            "text/plain": [
              "([19957, 4892, 25], [0, 1, 2])"
            ]
          },
          "metadata": {
            "tags": []
          },
          "execution_count": 154
        }
      ]
    },
    {
      "cell_type": "code",
      "metadata": {
        "id": "dLbDTw1A9bPX",
        "colab_type": "code",
        "colab": {
          "base_uri": "https://localhost:8080/",
          "height": 452
        },
        "outputId": "87d0994c-3b99-4a48-bd7f-f70c818b8879"
      },
      "source": [
        "x = name\n",
        "y = np.arange(len(x))\n",
        "h = size\n",
        "\n",
        "plt.bar(y, h, align='center', alpha=0.5)\n",
        "plt.xticks(y, x)\n",
        "plt.ylabel(\"Count's\")\n",
        "plt.title('Customer Group')\n",
        "\n",
        "\n",
        "plt.show()"
      ],
      "execution_count": 155,
      "outputs": [
        {
          "output_type": "display_data",
          "data": {
            "image/png": "[encoded data removed]",
            "text/plain": [
              "<Figure size 640x480 with 1 Axes>"
            ]
          },
          "metadata": {
            "tags": []
          }
        }
      ]
    },
    {
      "cell_type": "code",
      "metadata": {
        "id": "TnkB3jVjFwJt",
        "colab_type": "code",
        "colab": {}
      },
      "source": [
        ""
      ],
      "execution_count": 155,
      "outputs": []
    }
  ]
}